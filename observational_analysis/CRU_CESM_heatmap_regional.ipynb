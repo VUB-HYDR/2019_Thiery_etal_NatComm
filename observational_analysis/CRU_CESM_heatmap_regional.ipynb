{
 "cells": [
  {
   "cell_type": "code",
   "execution_count": 1,
   "metadata": {},
   "outputs": [],
   "source": [
    "import netCDF4 as nc\n",
    "import numpy as np\n",
    "import scipy\n",
    "import os\n",
    "import matplotlib\n",
    "# matplotlib.rcParams['backend'] = \"Qt4Agg\"\n",
    "# matplotlib.rcParams['legend.numpoints'] = 1\n",
    "\n",
    "from mpl_toolkits.basemap import Basemap\n",
    "from matplotlib.colors import LogNorm\n",
    "import matplotlib.lines as mlines\n",
    "import matplotlib.pyplot as plt\n",
    "from scipy import stats\n",
    "import matplotlib.lines as mlines\n",
    "\n",
    "import matplotlib.gridspec as gridspec\n",
    "\n",
    "# WT\n",
    "import scipy.io as sio"
   ]
  },
  {
   "cell_type": "code",
   "execution_count": 2,
   "metadata": {},
   "outputs": [],
   "source": [
    "import seaborn as sns\n",
    "# sns.set_style('white')"
   ]
  },
  {
   "cell_type": "code",
   "execution_count": 3,
   "metadata": {},
   "outputs": [],
   "source": [
    "## load function definitions\n",
    "\n",
    "execfile('extract_T_irr.py')\n",
    "execfile('calc_irr_diff.py')\n",
    "execfile('calc_irr_impact_regr.py')\n",
    "execfile('calc_irr_impact_thres.py')"
   ]
  },
  {
   "cell_type": "code",
   "execution_count": 4,
   "metadata": {},
   "outputs": [],
   "source": [
    "#################################\n",
    "#User-specified options\n",
    "#################################\n",
    "\n",
    "temp_product_CRU = \"tmx_max\"\n",
    "temp_product_CESM = \"TREFHTMX\"\n",
    "\n",
    "response = \"PC/PD\"\n",
    "t_res = \"seasonal\"\n",
    "\n",
    "seas_ind = 2\n",
    "month_ind = 5\n",
    "\n",
    "yr_start1 = 1901\n",
    "yr_end1 = 1930\n",
    "yr_start2 = 1981\n",
    "yr_end2 = 2010\n",
    "\n",
    "thres_irr_PD = 0.02\n",
    "\n",
    "p_value = 0.01\n",
    "figsave = True\n",
    "figformat = 'pdf' ##'pdf'\n",
    "#################################\n",
    "\n",
    "SREX_region = 'SAS'"
   ]
  },
  {
   "cell_type": "markdown",
   "metadata": {},
   "source": [
    "# Load data"
   ]
  },
  {
   "cell_type": "code",
   "execution_count": 5,
   "metadata": {},
   "outputs": [
    {
     "name": "stderr",
     "output_type": "stream",
     "text": [
      "/usr/local/Miniconda3-envs/envs/2018/envs/iacpy2_2018/lib/python2.7/site-packages/ipykernel_launcher.py:84: RuntimeWarning: Mean of empty slice\n",
      "/usr/local/Miniconda3-envs/envs/2018/envs/iacpy2_2018/lib/python2.7/site-packages/ipykernel_launcher.py:85: RuntimeWarning: Mean of empty slice\n"
     ]
    }
   ],
   "source": [
    "#Calculate df_irr\n",
    "_,_,f_irr_CRU = calc_irr_diff('CRU_CESM',response,yr_start1,yr_end1,yr_start2,yr_end2)\n",
    "_,_,f_irr_CESM = calc_irr_diff('CESM',response,yr_start1,yr_end1,yr_start2,yr_end2)\n",
    "\n"
   ]
  },
  {
   "cell_type": "code",
   "execution_count": 6,
   "metadata": {},
   "outputs": [],
   "source": [
    "#from ispinb_mask.ipynb\n",
    "#Load mask from .mat file\n",
    "mat_contents = sio.loadmat('mw_ispinb.mat') #Add path before filename if mw_ispinb.mat is not in current dir.\n",
    "ispinb = mat_contents['ispinb'][::-1,:] #'::-1' flips the 1st axis\n",
    "\n",
    "#Generate tuple of arrays with x- and y-indices to be used to select relevant indices from 2D-array, to be used in your script instead of the SAS indices\n",
    "pinb_mask = np.where(ispinb==1)"
   ]
  },
  {
   "cell_type": "markdown",
   "metadata": {},
   "source": [
    "# Execute algorithm"
   ]
  },
  {
   "cell_type": "markdown",
   "metadata": {},
   "source": [
    "### bb = 5\n",
    "\n",
    "Go to code in calc_irr_impact_regr.py and change bl to 2 on line 40."
   ]
  },
  {
   "cell_type": "code",
   "execution_count": 7,
   "metadata": {},
   "outputs": [],
   "source": [
    "# Re-load regression-based algorithm after this change\n",
    "execfile('calc_irr_impact_regr.py')"
   ]
  },
  {
   "cell_type": "code",
   "execution_count": 8,
   "metadata": {},
   "outputs": [
    {
     "name": "stderr",
     "output_type": "stream",
     "text": [
      "/usr/local/Miniconda3-envs/envs/2018/envs/iacpy2_2018/lib/python2.7/site-packages/ipykernel_launcher.py:84: RuntimeWarning: Mean of empty slice\n",
      "/usr/local/Miniconda3-envs/envs/2018/envs/iacpy2_2018/lib/python2.7/site-packages/ipykernel_launcher.py:85: RuntimeWarning: Mean of empty slice\n"
     ]
    },
    {
     "name": "stdout",
     "output_type": "stream",
     "text": [
      "Done importing changes in temperature and irrigated fraction\n",
      "Done importing changes in temperature and irrigated fraction\n",
      "Done importing changes in temperature and irrigated fraction\n",
      "Done importing changes in temperature and irrigated fraction\n",
      "Done importing changes in temperature and irrigated fraction\n",
      "Done importing changes in temperature and irrigated fraction\n",
      "Done importing changes in temperature and irrigated fraction\n",
      "Done importing changes in temperature and irrigated fraction\n",
      "Done importing changes in temperature and irrigated fraction\n",
      "Done importing changes in temperature and irrigated fraction\n",
      "Done importing changes in temperature and irrigated fraction\n",
      "Done importing changes in temperature and irrigated fraction\n"
     ]
    }
   ],
   "source": [
    "###################################\n",
    "#\n",
    "#Calculate dT_irr\n",
    "#Execute the algorithm to calculate\n",
    "#dT_irr globally and regionally.\n",
    "#\n",
    "#N.B. this procedure fills the \n",
    "#bottom two panels of the plot.\n",
    "#\n",
    "###################################\n",
    "\n",
    "#Define stacked array in which the results are stored\n",
    "CRU_t = np.zeros((9, 192, 288))\n",
    "CESM_t = np.zeros((9, 192, 288))\n",
    "\n",
    "#Execute the algorithm for different threshold values for CRU and CESM\n",
    "CRU_t[0,:,:], _,_,_,_ = calc_irr_impact_regr('CRU_CESM',temp_product_CRU,response,t_res,0.0,False,yr_start1,yr_end1,yr_start2,yr_end2)\n",
    "CRU_t[1,:,:], _,_,_,_ = calc_irr_impact_regr('CRU_CESM',temp_product_CRU,response,t_res,0.1,False,yr_start1,yr_end1,yr_start2,yr_end2)\n",
    "CRU_t[2,:,:], _,_,_,_ = calc_irr_impact_regr('CRU_CESM',temp_product_CRU,response,t_res,0.2,False,yr_start1,yr_end1,yr_start2,yr_end2)\n",
    "CRU_t[3,:,:], _,_,_,_ = calc_irr_impact_regr('CRU_CESM',temp_product_CRU,response,t_res,0.3,False,yr_start1,yr_end1,yr_start2,yr_end2)\n",
    "CRU_t[4,:,:], _,_,_,_ = calc_irr_impact_regr('CRU_CESM',temp_product_CRU,response,t_res,0.4,False,yr_start1,yr_end1,yr_start2,yr_end2)\n",
    "CRU_t[5,:,:], _,_,_,_ = calc_irr_impact_regr('CRU_CESM',temp_product_CRU,response,t_res,0.5,False,yr_start1,yr_end1,yr_start2,yr_end2)\n",
    "\n",
    "CESM_t[0,:,:], _,_,_,_ = calc_irr_impact_regr('CESM',temp_product_CESM,response,t_res,0.0,False,yr_start1,yr_end1,yr_start2,yr_end2)\n",
    "CESM_t[1,:,:], _,_,_,_ = calc_irr_impact_regr('CESM',temp_product_CESM,response,t_res,0.1,False,yr_start1,yr_end1,yr_start2,yr_end2)\n",
    "CESM_t[2,:,:], _,_,_,_ = calc_irr_impact_regr('CESM',temp_product_CESM,response,t_res,0.2,False,yr_start1,yr_end1,yr_start2,yr_end2)\n",
    "CESM_t[3,:,:], _,_,_,_ = calc_irr_impact_regr('CESM',temp_product_CESM,response,t_res,0.3,False,yr_start1,yr_end1,yr_start2,yr_end2)\n",
    "CESM_t[4,:,:], _,_,_,_ = calc_irr_impact_regr('CESM',temp_product_CESM,response,t_res,0.4,False,yr_start1,yr_end1,yr_start2,yr_end2)\n",
    "CESM_t[5,:,:], _,_,_,_ = calc_irr_impact_regr('CESM',temp_product_CESM,response,t_res,0.5,False,yr_start1,yr_end1,yr_start2,yr_end2)\n",
    "\n",
    "\n",
    "# WT:  save arrays as .mat files for making maps in matlab\n",
    "#sio.savemat('formatlab_CRU_t.mat' , {'CRU_t':CRU_t})\n",
    "#sio.savemat('formatlab_CESM_t.mat', {'CESM_t':CESM_t})\n",
    "# WT\n",
    "\n",
    "\n",
    "#Change to 1D, remove NaNs\n",
    "CRU0 = CRU_t[0,:,:].ravel()[~np.isnan(CRU_t[0,:,:].ravel())]\n",
    "CRU1 = CRU_t[1,:,:].ravel()[~np.isnan(CRU_t[1,:,:].ravel())]\n",
    "CRU2 = CRU_t[2,:,:].ravel()[~np.isnan(CRU_t[2,:,:].ravel())]\n",
    "CRU3 = CRU_t[3,:,:].ravel()[~np.isnan(CRU_t[3,:,:].ravel())]\n",
    "CRU4 = CRU_t[4,:,:].ravel()[~np.isnan(CRU_t[4,:,:].ravel())]\n",
    "CRU5 = CRU_t[5,:,:].ravel()[~np.isnan(CRU_t[5,:,:].ravel())]\n",
    "\n",
    "CESM0 = CESM_t[0,:,:].ravel()[~np.isnan(CESM_t[0,:,:].ravel())]\n",
    "CESM1 = CESM_t[1,:,:].ravel()[~np.isnan(CESM_t[1,:,:].ravel())]\n",
    "CESM2 = CESM_t[2,:,:].ravel()[~np.isnan(CESM_t[2,:,:].ravel())]\n",
    "CESM3 = CESM_t[3,:,:].ravel()[~np.isnan(CESM_t[3,:,:].ravel())]\n",
    "CESM4 = CESM_t[4,:,:].ravel()[~np.isnan(CESM_t[4,:,:].ravel())]\n",
    "CESM5 = CESM_t[5,:,:].ravel()[~np.isnan(CESM_t[5,:,:].ravel())]"
   ]
  },
  {
   "cell_type": "code",
   "execution_count": 9,
   "metadata": {},
   "outputs": [],
   "source": [
    "# WT replaced sel by pinb_mask in next lines\n",
    "#Extract the PINB signal for each threshold for CRU and CESM, removing NaN values \n",
    "CRU0_reg_pinb_bb5 = CRU_t[0,:,:][pinb_mask][~np.isnan(CRU_t[0,:,:][pinb_mask])]\n",
    "CRU1_reg_pinb_bb5 = CRU_t[1,:,:][pinb_mask][~np.isnan(CRU_t[1,:,:][pinb_mask])]\n",
    "CRU2_reg_pinb_bb5 = CRU_t[2,:,:][pinb_mask][~np.isnan(CRU_t[2,:,:][pinb_mask])]\n",
    "CRU3_reg_pinb_bb5 = CRU_t[3,:,:][pinb_mask][~np.isnan(CRU_t[3,:,:][pinb_mask])]\n",
    "CRU4_reg_pinb_bb5 = CRU_t[4,:,:][pinb_mask][~np.isnan(CRU_t[4,:,:][pinb_mask])]\n",
    "CRU5_reg_pinb_bb5 = CRU_t[5,:,:][pinb_mask][~np.isnan(CRU_t[5,:,:][pinb_mask])]\n",
    "\n",
    "# WT replaced mistake (CRU_t to CESM_t)\n",
    "CESM0_reg_pinb_bb5 = CESM_t[0,:,:][pinb_mask][~np.isnan(CESM_t[0,:,:][pinb_mask])]\n",
    "CESM1_reg_pinb_bb5 = CESM_t[1,:,:][pinb_mask][~np.isnan(CESM_t[1,:,:][pinb_mask])]\n",
    "CESM2_reg_pinb_bb5 = CESM_t[2,:,:][pinb_mask][~np.isnan(CESM_t[2,:,:][pinb_mask])]\n",
    "CESM3_reg_pinb_bb5 = CESM_t[3,:,:][pinb_mask][~np.isnan(CESM_t[3,:,:][pinb_mask])]\n",
    "CESM4_reg_pinb_bb5 = CESM_t[4,:,:][pinb_mask][~np.isnan(CESM_t[4,:,:][pinb_mask])]\n",
    "CESM5_reg_pinb_bb5 = CESM_t[5,:,:][pinb_mask][~np.isnan(CESM_t[5,:,:][pinb_mask])]"
   ]
  },
  {
   "cell_type": "code",
   "execution_count": 10,
   "metadata": {},
   "outputs": [],
   "source": [
    "CRU_bb5 = np.zeros((6))\n",
    "CESM_bb5 = np.zeros((6))\n",
    "    \n",
    "CRU_bb5[0] = np.nanmedian(CRU0_reg_pinb_bb5)\n",
    "CRU_bb5[1] = np.nanmedian(CRU1_reg_pinb_bb5)\n",
    "CRU_bb5[2] = np.nanmedian(CRU2_reg_pinb_bb5)\n",
    "CRU_bb5[3] = np.nanmedian(CRU3_reg_pinb_bb5)\n",
    "CRU_bb5[4] = np.nanmedian(CRU4_reg_pinb_bb5)\n",
    "CRU_bb5[5] = np.nanmedian(CRU5_reg_pinb_bb5)\n",
    "\n",
    "CESM_bb5[0] = np.nanmedian(CESM0_reg_pinb_bb5)\n",
    "CESM_bb5[1] = np.nanmedian(CESM1_reg_pinb_bb5)\n",
    "CESM_bb5[2] = np.nanmedian(CESM2_reg_pinb_bb5)\n",
    "CESM_bb5[3] = np.nanmedian(CESM3_reg_pinb_bb5)\n",
    "CESM_bb5[4] = np.nanmedian(CESM4_reg_pinb_bb5)\n",
    "CESM_bb5[5] = np.nanmedian(CESM5_reg_pinb_bb5)"
   ]
  },
  {
   "cell_type": "markdown",
   "metadata": {},
   "source": [
    "### bb = 7\n",
    "\n",
    "Go to code in calc_irr_impact_regr.py and change bl to 3 on line 40."
   ]
  },
  {
   "cell_type": "code",
   "execution_count": 49,
   "metadata": {},
   "outputs": [],
   "source": [
    "# Re-load regression-based algorithm after this change\n",
    "execfile('calc_irr_impact_regr.py')"
   ]
  },
  {
   "cell_type": "code",
   "execution_count": 50,
   "metadata": {},
   "outputs": [
    {
     "name": "stderr",
     "output_type": "stream",
     "text": [
      "/usr/local/Miniconda3-envs/envs/2018/envs/iacpy2_2018/lib/python2.7/site-packages/ipykernel_launcher.py:84: RuntimeWarning: Mean of empty slice\n",
      "/usr/local/Miniconda3-envs/envs/2018/envs/iacpy2_2018/lib/python2.7/site-packages/ipykernel_launcher.py:85: RuntimeWarning: Mean of empty slice\n"
     ]
    },
    {
     "name": "stdout",
     "output_type": "stream",
     "text": [
      "Done importing changes in temperature and irrigated fraction\n",
      "Done importing changes in temperature and irrigated fraction\n",
      "Done importing changes in temperature and irrigated fraction\n",
      "Done importing changes in temperature and irrigated fraction\n",
      "Done importing changes in temperature and irrigated fraction\n",
      "Done importing changes in temperature and irrigated fraction\n",
      "Done importing changes in temperature and irrigated fraction\n",
      "Done importing changes in temperature and irrigated fraction\n",
      "Done importing changes in temperature and irrigated fraction\n",
      "Done importing changes in temperature and irrigated fraction\n",
      "Done importing changes in temperature and irrigated fraction\n",
      "Done importing changes in temperature and irrigated fraction\n"
     ]
    }
   ],
   "source": [
    "###################################\n",
    "#\n",
    "#Calculate dT_irr\n",
    "#Execute the algorithm to calculate\n",
    "#dT_irr globally and regionally.\n",
    "#\n",
    "#N.B. this procedure fills the \n",
    "#bottom two panels of the plot.\n",
    "#\n",
    "###################################\n",
    "\n",
    "#Define stacked array in which the results are stored\n",
    "CRU_t = np.zeros((9, 192, 288))\n",
    "CESM_t = np.zeros((9, 192, 288))\n",
    "\n",
    "#Execute the algorithm for different threshold values for CRU and CESM\n",
    "CRU_t[0,:,:], _,_,_,_ = calc_irr_impact_regr('CRU_CESM',temp_product_CRU,response,t_res,0.0,False,yr_start1,yr_end1,yr_start2,yr_end2)\n",
    "CRU_t[1,:,:], _,_,_,_ = calc_irr_impact_regr('CRU_CESM',temp_product_CRU,response,t_res,0.1,False,yr_start1,yr_end1,yr_start2,yr_end2)\n",
    "CRU_t[2,:,:], _,_,_,_ = calc_irr_impact_regr('CRU_CESM',temp_product_CRU,response,t_res,0.2,False,yr_start1,yr_end1,yr_start2,yr_end2)\n",
    "CRU_t[3,:,:], _,_,_,_ = calc_irr_impact_regr('CRU_CESM',temp_product_CRU,response,t_res,0.3,False,yr_start1,yr_end1,yr_start2,yr_end2)\n",
    "CRU_t[4,:,:], _,_,_,_ = calc_irr_impact_regr('CRU_CESM',temp_product_CRU,response,t_res,0.4,False,yr_start1,yr_end1,yr_start2,yr_end2)\n",
    "CRU_t[5,:,:], _,_,_,_ = calc_irr_impact_regr('CRU_CESM',temp_product_CRU,response,t_res,0.5,False,yr_start1,yr_end1,yr_start2,yr_end2)\n",
    "\n",
    "CESM_t[0,:,:], _,_,_,_ = calc_irr_impact_regr('CESM',temp_product_CESM,response,t_res,0.0,False,yr_start1,yr_end1,yr_start2,yr_end2)\n",
    "CESM_t[1,:,:], _,_,_,_ = calc_irr_impact_regr('CESM',temp_product_CESM,response,t_res,0.1,False,yr_start1,yr_end1,yr_start2,yr_end2)\n",
    "CESM_t[2,:,:], _,_,_,_ = calc_irr_impact_regr('CESM',temp_product_CESM,response,t_res,0.2,False,yr_start1,yr_end1,yr_start2,yr_end2)\n",
    "CESM_t[3,:,:], _,_,_,_ = calc_irr_impact_regr('CESM',temp_product_CESM,response,t_res,0.3,False,yr_start1,yr_end1,yr_start2,yr_end2)\n",
    "CESM_t[4,:,:], _,_,_,_ = calc_irr_impact_regr('CESM',temp_product_CESM,response,t_res,0.4,False,yr_start1,yr_end1,yr_start2,yr_end2)\n",
    "CESM_t[5,:,:], _,_,_,_ = calc_irr_impact_regr('CESM',temp_product_CESM,response,t_res,0.5,False,yr_start1,yr_end1,yr_start2,yr_end2)\n",
    "\n",
    "\n",
    "# WT:  save arrays as .mat files for making maps in matlab\n",
    "#sio.savemat('formatlab_CRU_t.mat' , {'CRU_t':CRU_t})\n",
    "#sio.savemat('formatlab_CESM_t.mat', {'CESM_t':CESM_t})\n",
    "# WT\n",
    "\n",
    "\n",
    "#Change to 1D, remove NaNs\n",
    "CRU0 = CRU_t[0,:,:].ravel()[~np.isnan(CRU_t[0,:,:].ravel())]\n",
    "CRU1 = CRU_t[1,:,:].ravel()[~np.isnan(CRU_t[1,:,:].ravel())]\n",
    "CRU2 = CRU_t[2,:,:].ravel()[~np.isnan(CRU_t[2,:,:].ravel())]\n",
    "CRU3 = CRU_t[3,:,:].ravel()[~np.isnan(CRU_t[3,:,:].ravel())]\n",
    "CRU4 = CRU_t[4,:,:].ravel()[~np.isnan(CRU_t[4,:,:].ravel())]\n",
    "CRU5 = CRU_t[5,:,:].ravel()[~np.isnan(CRU_t[5,:,:].ravel())]\n",
    "\n",
    "CESM0 = CESM_t[0,:,:].ravel()[~np.isnan(CESM_t[0,:,:].ravel())]\n",
    "CESM1 = CESM_t[1,:,:].ravel()[~np.isnan(CESM_t[1,:,:].ravel())]\n",
    "CESM2 = CESM_t[2,:,:].ravel()[~np.isnan(CESM_t[2,:,:].ravel())]\n",
    "CESM3 = CESM_t[3,:,:].ravel()[~np.isnan(CESM_t[3,:,:].ravel())]\n",
    "CESM4 = CESM_t[4,:,:].ravel()[~np.isnan(CESM_t[4,:,:].ravel())]\n",
    "CESM5 = CESM_t[5,:,:].ravel()[~np.isnan(CESM_t[5,:,:].ravel())]"
   ]
  },
  {
   "cell_type": "code",
   "execution_count": 51,
   "metadata": {},
   "outputs": [],
   "source": [
    "# WT replaced sel by pinb_mask in next lines\n",
    "#Extract the PINB signal for each threshold for CRU and CESM, removing NaN values \n",
    "CRU0_reg_pinb_bb7 = CRU_t[0,:,:][pinb_mask][~np.isnan(CRU_t[0,:,:][pinb_mask])]\n",
    "CRU1_reg_pinb_bb7 = CRU_t[1,:,:][pinb_mask][~np.isnan(CRU_t[1,:,:][pinb_mask])]\n",
    "CRU2_reg_pinb_bb7 = CRU_t[2,:,:][pinb_mask][~np.isnan(CRU_t[2,:,:][pinb_mask])]\n",
    "CRU3_reg_pinb_bb7 = CRU_t[3,:,:][pinb_mask][~np.isnan(CRU_t[3,:,:][pinb_mask])]\n",
    "CRU4_reg_pinb_bb7 = CRU_t[4,:,:][pinb_mask][~np.isnan(CRU_t[4,:,:][pinb_mask])]\n",
    "CRU5_reg_pinb_bb7 = CRU_t[5,:,:][pinb_mask][~np.isnan(CRU_t[5,:,:][pinb_mask])]\n",
    "\n",
    "# WT replaced mistake (CRU_t to CESM_t)\n",
    "CESM0_reg_pinb_bb7 = CESM_t[0,:,:][pinb_mask][~np.isnan(CESM_t[0,:,:][pinb_mask])]\n",
    "CESM1_reg_pinb_bb7 = CESM_t[1,:,:][pinb_mask][~np.isnan(CESM_t[1,:,:][pinb_mask])]\n",
    "CESM2_reg_pinb_bb7 = CESM_t[2,:,:][pinb_mask][~np.isnan(CESM_t[2,:,:][pinb_mask])]\n",
    "CESM3_reg_pinb_bb7 = CESM_t[3,:,:][pinb_mask][~np.isnan(CESM_t[3,:,:][pinb_mask])]\n",
    "CESM4_reg_pinb_bb7 = CESM_t[4,:,:][pinb_mask][~np.isnan(CESM_t[4,:,:][pinb_mask])]\n",
    "CESM5_reg_pinb_bb7 = CESM_t[5,:,:][pinb_mask][~np.isnan(CESM_t[5,:,:][pinb_mask])]"
   ]
  },
  {
   "cell_type": "code",
   "execution_count": 52,
   "metadata": {},
   "outputs": [],
   "source": [
    "CRU_bb7 = np.zeros((6))\n",
    "CESM_bb7 = np.zeros((6))\n",
    "    \n",
    "CRU_bb7[0] = np.nanmedian(CRU0_reg_pinb_bb7)\n",
    "CRU_bb7[1] = np.nanmedian(CRU1_reg_pinb_bb7)\n",
    "CRU_bb7[2] = np.nanmedian(CRU2_reg_pinb_bb7)\n",
    "CRU_bb7[3] = np.nanmedian(CRU3_reg_pinb_bb7)\n",
    "CRU_bb7[4] = np.nanmedian(CRU4_reg_pinb_bb7)\n",
    "CRU_bb7[5] = np.nanmedian(CRU5_reg_pinb_bb7)\n",
    "\n",
    "CESM_bb7[0] = np.nanmedian(CESM0_reg_pinb_bb7)\n",
    "CESM_bb7[1] = np.nanmedian(CESM1_reg_pinb_bb7)\n",
    "CESM_bb7[2] = np.nanmedian(CESM2_reg_pinb_bb7)\n",
    "CESM_bb7[3] = np.nanmedian(CESM3_reg_pinb_bb7)\n",
    "CESM_bb7[4] = np.nanmedian(CESM4_reg_pinb_bb7)\n",
    "CESM_bb7[5] = np.nanmedian(CESM5_reg_pinb_bb7)"
   ]
  },
  {
   "cell_type": "markdown",
   "metadata": {},
   "source": [
    "### bb = 9\n",
    "\n",
    "Go to code in calc_irr_impact_regr.py and change bl to 4 on line 40."
   ]
  },
  {
   "cell_type": "code",
   "execution_count": 15,
   "metadata": {},
   "outputs": [],
   "source": [
    "# Re-load regression-based algorithm after this change\n",
    "execfile('calc_irr_impact_regr.py')"
   ]
  },
  {
   "cell_type": "code",
   "execution_count": 16,
   "metadata": {},
   "outputs": [
    {
     "name": "stderr",
     "output_type": "stream",
     "text": [
      "/usr/local/Miniconda3-envs/envs/2018/envs/iacpy2_2018/lib/python2.7/site-packages/ipykernel_launcher.py:84: RuntimeWarning: Mean of empty slice\n",
      "/usr/local/Miniconda3-envs/envs/2018/envs/iacpy2_2018/lib/python2.7/site-packages/ipykernel_launcher.py:85: RuntimeWarning: Mean of empty slice\n"
     ]
    },
    {
     "name": "stdout",
     "output_type": "stream",
     "text": [
      "Done importing changes in temperature and irrigated fraction\n",
      "Done importing changes in temperature and irrigated fraction\n",
      "Done importing changes in temperature and irrigated fraction\n",
      "Done importing changes in temperature and irrigated fraction\n",
      "Done importing changes in temperature and irrigated fraction\n",
      "Done importing changes in temperature and irrigated fraction\n",
      "Done importing changes in temperature and irrigated fraction\n",
      "Done importing changes in temperature and irrigated fraction\n",
      "Done importing changes in temperature and irrigated fraction\n",
      "Done importing changes in temperature and irrigated fraction\n",
      "Done importing changes in temperature and irrigated fraction\n",
      "Done importing changes in temperature and irrigated fraction\n"
     ]
    }
   ],
   "source": [
    "###################################\n",
    "#\n",
    "#Calculate dT_irr\n",
    "#Execute the algorithm to calculate\n",
    "#dT_irr globally and regionally.\n",
    "#\n",
    "#N.B. this procedure fills the \n",
    "#bottom two panels of the plot.\n",
    "#\n",
    "###################################\n",
    "\n",
    "#Define stacked array in which the results are stored\n",
    "CRU_t = np.zeros((9, 192, 288))\n",
    "CESM_t = np.zeros((9, 192, 288))\n",
    "\n",
    "#Execute the algorithm for different threshold values for CRU and CESM\n",
    "CRU_t[0,:,:], _,_,_,_ = calc_irr_impact_regr('CRU_CESM',temp_product_CRU,response,t_res,0.0,False,yr_start1,yr_end1,yr_start2,yr_end2)\n",
    "CRU_t[1,:,:], _,_,_,_ = calc_irr_impact_regr('CRU_CESM',temp_product_CRU,response,t_res,0.1,False,yr_start1,yr_end1,yr_start2,yr_end2)\n",
    "CRU_t[2,:,:], _,_,_,_ = calc_irr_impact_regr('CRU_CESM',temp_product_CRU,response,t_res,0.2,False,yr_start1,yr_end1,yr_start2,yr_end2)\n",
    "CRU_t[3,:,:], _,_,_,_ = calc_irr_impact_regr('CRU_CESM',temp_product_CRU,response,t_res,0.3,False,yr_start1,yr_end1,yr_start2,yr_end2)\n",
    "CRU_t[4,:,:], _,_,_,_ = calc_irr_impact_regr('CRU_CESM',temp_product_CRU,response,t_res,0.4,False,yr_start1,yr_end1,yr_start2,yr_end2)\n",
    "CRU_t[5,:,:], _,_,_,_ = calc_irr_impact_regr('CRU_CESM',temp_product_CRU,response,t_res,0.5,False,yr_start1,yr_end1,yr_start2,yr_end2)\n",
    "\n",
    "CESM_t[0,:,:], _,_,_,_ = calc_irr_impact_regr('CESM',temp_product_CESM,response,t_res,0.0,False,yr_start1,yr_end1,yr_start2,yr_end2)\n",
    "CESM_t[1,:,:], _,_,_,_ = calc_irr_impact_regr('CESM',temp_product_CESM,response,t_res,0.1,False,yr_start1,yr_end1,yr_start2,yr_end2)\n",
    "CESM_t[2,:,:], _,_,_,_ = calc_irr_impact_regr('CESM',temp_product_CESM,response,t_res,0.2,False,yr_start1,yr_end1,yr_start2,yr_end2)\n",
    "CESM_t[3,:,:], _,_,_,_ = calc_irr_impact_regr('CESM',temp_product_CESM,response,t_res,0.3,False,yr_start1,yr_end1,yr_start2,yr_end2)\n",
    "CESM_t[4,:,:], _,_,_,_ = calc_irr_impact_regr('CESM',temp_product_CESM,response,t_res,0.4,False,yr_start1,yr_end1,yr_start2,yr_end2)\n",
    "CESM_t[5,:,:], _,_,_,_ = calc_irr_impact_regr('CESM',temp_product_CESM,response,t_res,0.5,False,yr_start1,yr_end1,yr_start2,yr_end2)\n",
    "\n",
    "\n",
    "# WT:  save arrays as .mat files for making maps in matlab\n",
    "#sio.savemat('formatlab_CRU_t.mat' , {'CRU_t':CRU_t})\n",
    "#sio.savemat('formatlab_CESM_t.mat', {'CESM_t':CESM_t})\n",
    "# WT\n",
    "\n",
    "\n",
    "#Change to 1D, remove NaNs\n",
    "CRU0 = CRU_t[0,:,:].ravel()[~np.isnan(CRU_t[0,:,:].ravel())]\n",
    "CRU1 = CRU_t[1,:,:].ravel()[~np.isnan(CRU_t[1,:,:].ravel())]\n",
    "CRU2 = CRU_t[2,:,:].ravel()[~np.isnan(CRU_t[2,:,:].ravel())]\n",
    "CRU3 = CRU_t[3,:,:].ravel()[~np.isnan(CRU_t[3,:,:].ravel())]\n",
    "CRU4 = CRU_t[4,:,:].ravel()[~np.isnan(CRU_t[4,:,:].ravel())]\n",
    "CRU5 = CRU_t[5,:,:].ravel()[~np.isnan(CRU_t[5,:,:].ravel())]\n",
    "\n",
    "CESM0 = CESM_t[0,:,:].ravel()[~np.isnan(CESM_t[0,:,:].ravel())]\n",
    "CESM1 = CESM_t[1,:,:].ravel()[~np.isnan(CESM_t[1,:,:].ravel())]\n",
    "CESM2 = CESM_t[2,:,:].ravel()[~np.isnan(CESM_t[2,:,:].ravel())]\n",
    "CESM3 = CESM_t[3,:,:].ravel()[~np.isnan(CESM_t[3,:,:].ravel())]\n",
    "CESM4 = CESM_t[4,:,:].ravel()[~np.isnan(CESM_t[4,:,:].ravel())]\n",
    "CESM5 = CESM_t[5,:,:].ravel()[~np.isnan(CESM_t[5,:,:].ravel())]"
   ]
  },
  {
   "cell_type": "code",
   "execution_count": 17,
   "metadata": {},
   "outputs": [],
   "source": [
    "# WT replaced sel by pinb_mask in next lines\n",
    "#Extract the PINB signal for each threshold for CRU and CESM, removing NaN values \n",
    "CRU0_reg_pinb_bb9 = CRU_t[0,:,:][pinb_mask][~np.isnan(CRU_t[0,:,:][pinb_mask])]\n",
    "CRU1_reg_pinb_bb9 = CRU_t[1,:,:][pinb_mask][~np.isnan(CRU_t[1,:,:][pinb_mask])]\n",
    "CRU2_reg_pinb_bb9 = CRU_t[2,:,:][pinb_mask][~np.isnan(CRU_t[2,:,:][pinb_mask])]\n",
    "CRU3_reg_pinb_bb9 = CRU_t[3,:,:][pinb_mask][~np.isnan(CRU_t[3,:,:][pinb_mask])]\n",
    "CRU4_reg_pinb_bb9 = CRU_t[4,:,:][pinb_mask][~np.isnan(CRU_t[4,:,:][pinb_mask])]\n",
    "CRU5_reg_pinb_bb9 = CRU_t[5,:,:][pinb_mask][~np.isnan(CRU_t[5,:,:][pinb_mask])]\n",
    "\n",
    "# WT replaced mistake (CRU_t to CESM_t)\n",
    "CESM0_reg_pinb_bb9 = CESM_t[0,:,:][pinb_mask][~np.isnan(CESM_t[0,:,:][pinb_mask])]\n",
    "CESM1_reg_pinb_bb9 = CESM_t[1,:,:][pinb_mask][~np.isnan(CESM_t[1,:,:][pinb_mask])]\n",
    "CESM2_reg_pinb_bb9 = CESM_t[2,:,:][pinb_mask][~np.isnan(CESM_t[2,:,:][pinb_mask])]\n",
    "CESM3_reg_pinb_bb9 = CESM_t[3,:,:][pinb_mask][~np.isnan(CESM_t[3,:,:][pinb_mask])]\n",
    "CESM4_reg_pinb_bb9 = CESM_t[4,:,:][pinb_mask][~np.isnan(CESM_t[4,:,:][pinb_mask])]\n",
    "CESM5_reg_pinb_bb9 = CESM_t[5,:,:][pinb_mask][~np.isnan(CESM_t[5,:,:][pinb_mask])]"
   ]
  },
  {
   "cell_type": "code",
   "execution_count": 18,
   "metadata": {},
   "outputs": [],
   "source": [
    "CRU_bb9 = np.zeros((6))\n",
    "CESM_bb9 = np.zeros((6))\n",
    "    \n",
    "CRU_bb9[0] = np.nanmedian(CRU0_reg_pinb_bb9)\n",
    "CRU_bb9[1] = np.nanmedian(CRU1_reg_pinb_bb9)\n",
    "CRU_bb9[2] = np.nanmedian(CRU2_reg_pinb_bb9)\n",
    "CRU_bb9[3] = np.nanmedian(CRU3_reg_pinb_bb9)\n",
    "CRU_bb9[4] = np.nanmedian(CRU4_reg_pinb_bb9)\n",
    "CRU_bb9[5] = np.nanmedian(CRU5_reg_pinb_bb9)\n",
    "\n",
    "CESM_bb9[0] = np.nanmedian(CESM0_reg_pinb_bb9)\n",
    "CESM_bb9[1] = np.nanmedian(CESM1_reg_pinb_bb9)\n",
    "CESM_bb9[2] = np.nanmedian(CESM2_reg_pinb_bb9)\n",
    "CESM_bb9[3] = np.nanmedian(CESM3_reg_pinb_bb9)\n",
    "CESM_bb9[4] = np.nanmedian(CESM4_reg_pinb_bb9)\n",
    "CESM_bb9[5] = np.nanmedian(CESM5_reg_pinb_bb9)"
   ]
  },
  {
   "cell_type": "markdown",
   "metadata": {},
   "source": [
    "### bb = 11\n",
    "\n",
    "Go to code in calc_irr_impact_regr.py and change bl to 5 on line 40."
   ]
  },
  {
   "cell_type": "code",
   "execution_count": 19,
   "metadata": {},
   "outputs": [],
   "source": [
    "# Re-load regression-based algorithm after this change\n",
    "execfile('calc_irr_impact_regr.py')"
   ]
  },
  {
   "cell_type": "code",
   "execution_count": 20,
   "metadata": {},
   "outputs": [
    {
     "name": "stderr",
     "output_type": "stream",
     "text": [
      "/usr/local/Miniconda3-envs/envs/2018/envs/iacpy2_2018/lib/python2.7/site-packages/ipykernel_launcher.py:84: RuntimeWarning: Mean of empty slice\n",
      "/usr/local/Miniconda3-envs/envs/2018/envs/iacpy2_2018/lib/python2.7/site-packages/ipykernel_launcher.py:85: RuntimeWarning: Mean of empty slice\n"
     ]
    },
    {
     "name": "stdout",
     "output_type": "stream",
     "text": [
      "Done importing changes in temperature and irrigated fraction\n",
      "Done importing changes in temperature and irrigated fraction\n",
      "Done importing changes in temperature and irrigated fraction\n",
      "Done importing changes in temperature and irrigated fraction\n",
      "Done importing changes in temperature and irrigated fraction\n",
      "Done importing changes in temperature and irrigated fraction\n",
      "Done importing changes in temperature and irrigated fraction\n",
      "Done importing changes in temperature and irrigated fraction\n",
      "Done importing changes in temperature and irrigated fraction\n",
      "Done importing changes in temperature and irrigated fraction\n",
      "Done importing changes in temperature and irrigated fraction\n",
      "Done importing changes in temperature and irrigated fraction\n"
     ]
    }
   ],
   "source": [
    "###################################\n",
    "#\n",
    "#Calculate dT_irr\n",
    "#Execute the algorithm to calculate\n",
    "#dT_irr globally and regionally.\n",
    "#\n",
    "#N.B. this procedure fills the \n",
    "#bottom two panels of the plot.\n",
    "#\n",
    "###################################\n",
    "\n",
    "#Define stacked array in which the results are stored\n",
    "CRU_t = np.zeros((9, 192, 288))\n",
    "CESM_t = np.zeros((9, 192, 288))\n",
    "\n",
    "#Execute the algorithm for different threshold values for CRU and CESM\n",
    "CRU_t[0,:,:], _,_,_,_ = calc_irr_impact_regr('CRU_CESM',temp_product_CRU,response,t_res,0.0,False,yr_start1,yr_end1,yr_start2,yr_end2)\n",
    "CRU_t[1,:,:], _,_,_,_ = calc_irr_impact_regr('CRU_CESM',temp_product_CRU,response,t_res,0.1,False,yr_start1,yr_end1,yr_start2,yr_end2)\n",
    "CRU_t[2,:,:], _,_,_,_ = calc_irr_impact_regr('CRU_CESM',temp_product_CRU,response,t_res,0.2,False,yr_start1,yr_end1,yr_start2,yr_end2)\n",
    "CRU_t[3,:,:], _,_,_,_ = calc_irr_impact_regr('CRU_CESM',temp_product_CRU,response,t_res,0.3,False,yr_start1,yr_end1,yr_start2,yr_end2)\n",
    "CRU_t[4,:,:], _,_,_,_ = calc_irr_impact_regr('CRU_CESM',temp_product_CRU,response,t_res,0.4,False,yr_start1,yr_end1,yr_start2,yr_end2)\n",
    "CRU_t[5,:,:], _,_,_,_ = calc_irr_impact_regr('CRU_CESM',temp_product_CRU,response,t_res,0.5,False,yr_start1,yr_end1,yr_start2,yr_end2)\n",
    "\n",
    "CESM_t[0,:,:], _,_,_,_ = calc_irr_impact_regr('CESM',temp_product_CESM,response,t_res,0.0,False,yr_start1,yr_end1,yr_start2,yr_end2)\n",
    "CESM_t[1,:,:], _,_,_,_ = calc_irr_impact_regr('CESM',temp_product_CESM,response,t_res,0.1,False,yr_start1,yr_end1,yr_start2,yr_end2)\n",
    "CESM_t[2,:,:], _,_,_,_ = calc_irr_impact_regr('CESM',temp_product_CESM,response,t_res,0.2,False,yr_start1,yr_end1,yr_start2,yr_end2)\n",
    "CESM_t[3,:,:], _,_,_,_ = calc_irr_impact_regr('CESM',temp_product_CESM,response,t_res,0.3,False,yr_start1,yr_end1,yr_start2,yr_end2)\n",
    "CESM_t[4,:,:], _,_,_,_ = calc_irr_impact_regr('CESM',temp_product_CESM,response,t_res,0.4,False,yr_start1,yr_end1,yr_start2,yr_end2)\n",
    "CESM_t[5,:,:], _,_,_,_ = calc_irr_impact_regr('CESM',temp_product_CESM,response,t_res,0.5,False,yr_start1,yr_end1,yr_start2,yr_end2)\n",
    "\n",
    "\n",
    "# WT:  save arrays as .mat files for making maps in matlab\n",
    "#sio.savemat('formatlab_CRU_t.mat' , {'CRU_t':CRU_t})\n",
    "#sio.savemat('formatlab_CESM_t.mat', {'CESM_t':CESM_t})\n",
    "# WT\n",
    "\n",
    "\n",
    "#Change to 1D, remove NaNs\n",
    "CRU0 = CRU_t[0,:,:].ravel()[~np.isnan(CRU_t[0,:,:].ravel())]\n",
    "CRU1 = CRU_t[1,:,:].ravel()[~np.isnan(CRU_t[1,:,:].ravel())]\n",
    "CRU2 = CRU_t[2,:,:].ravel()[~np.isnan(CRU_t[2,:,:].ravel())]\n",
    "CRU3 = CRU_t[3,:,:].ravel()[~np.isnan(CRU_t[3,:,:].ravel())]\n",
    "CRU4 = CRU_t[4,:,:].ravel()[~np.isnan(CRU_t[4,:,:].ravel())]\n",
    "CRU5 = CRU_t[5,:,:].ravel()[~np.isnan(CRU_t[5,:,:].ravel())]\n",
    "\n",
    "CESM0 = CESM_t[0,:,:].ravel()[~np.isnan(CESM_t[0,:,:].ravel())]\n",
    "CESM1 = CESM_t[1,:,:].ravel()[~np.isnan(CESM_t[1,:,:].ravel())]\n",
    "CESM2 = CESM_t[2,:,:].ravel()[~np.isnan(CESM_t[2,:,:].ravel())]\n",
    "CESM3 = CESM_t[3,:,:].ravel()[~np.isnan(CESM_t[3,:,:].ravel())]\n",
    "CESM4 = CESM_t[4,:,:].ravel()[~np.isnan(CESM_t[4,:,:].ravel())]\n",
    "CESM5 = CESM_t[5,:,:].ravel()[~np.isnan(CESM_t[5,:,:].ravel())]"
   ]
  },
  {
   "cell_type": "code",
   "execution_count": 21,
   "metadata": {},
   "outputs": [],
   "source": [
    "# WT replaced sel by pinb_mask in next lines\n",
    "#Extract the PINB signal for each threshold for CRU and CESM, removing NaN values \n",
    "CRU0_reg_pinb_bb11 = CRU_t[0,:,:][pinb_mask][~np.isnan(CRU_t[0,:,:][pinb_mask])]\n",
    "CRU1_reg_pinb_bb11 = CRU_t[1,:,:][pinb_mask][~np.isnan(CRU_t[1,:,:][pinb_mask])]\n",
    "CRU2_reg_pinb_bb11 = CRU_t[2,:,:][pinb_mask][~np.isnan(CRU_t[2,:,:][pinb_mask])]\n",
    "CRU3_reg_pinb_bb11 = CRU_t[3,:,:][pinb_mask][~np.isnan(CRU_t[3,:,:][pinb_mask])]\n",
    "CRU4_reg_pinb_bb11 = CRU_t[4,:,:][pinb_mask][~np.isnan(CRU_t[4,:,:][pinb_mask])]\n",
    "CRU5_reg_pinb_bb11 = CRU_t[5,:,:][pinb_mask][~np.isnan(CRU_t[5,:,:][pinb_mask])]\n",
    "\n",
    "# WT replaced mistake (CRU_t to CESM_t)\n",
    "CESM0_reg_pinb_bb11 = CESM_t[0,:,:][pinb_mask][~np.isnan(CESM_t[0,:,:][pinb_mask])]\n",
    "CESM1_reg_pinb_bb11 = CESM_t[1,:,:][pinb_mask][~np.isnan(CESM_t[1,:,:][pinb_mask])]\n",
    "CESM2_reg_pinb_bb11 = CESM_t[2,:,:][pinb_mask][~np.isnan(CESM_t[2,:,:][pinb_mask])]\n",
    "CESM3_reg_pinb_bb11 = CESM_t[3,:,:][pinb_mask][~np.isnan(CESM_t[3,:,:][pinb_mask])]\n",
    "CESM4_reg_pinb_bb11 = CESM_t[4,:,:][pinb_mask][~np.isnan(CESM_t[4,:,:][pinb_mask])]\n",
    "CESM5_reg_pinb_bb11 = CESM_t[5,:,:][pinb_mask][~np.isnan(CESM_t[5,:,:][pinb_mask])]"
   ]
  },
  {
   "cell_type": "code",
   "execution_count": 22,
   "metadata": {},
   "outputs": [],
   "source": [
    "CRU_bb11 = np.zeros((6))\n",
    "CESM_bb11 = np.zeros((6))\n",
    "    \n",
    "CRU_bb11[0] = np.nanmedian(CRU0_reg_pinb_bb11)\n",
    "CRU_bb11[1] = np.nanmedian(CRU1_reg_pinb_bb11)\n",
    "CRU_bb11[2] = np.nanmedian(CRU2_reg_pinb_bb11)\n",
    "CRU_bb11[3] = np.nanmedian(CRU3_reg_pinb_bb11)\n",
    "CRU_bb11[4] = np.nanmedian(CRU4_reg_pinb_bb11)\n",
    "CRU_bb11[5] = np.nanmedian(CRU5_reg_pinb_bb11)\n",
    "\n",
    "CESM_bb11[0] = np.nanmedian(CESM0_reg_pinb_bb11)\n",
    "CESM_bb11[1] = np.nanmedian(CESM1_reg_pinb_bb11)\n",
    "CESM_bb11[2] = np.nanmedian(CESM2_reg_pinb_bb11)\n",
    "CESM_bb11[3] = np.nanmedian(CESM3_reg_pinb_bb11)\n",
    "CESM_bb11[4] = np.nanmedian(CESM4_reg_pinb_bb11)\n",
    "CESM_bb11[5] = np.nanmedian(CESM5_reg_pinb_bb11)"
   ]
  },
  {
   "cell_type": "markdown",
   "metadata": {},
   "source": [
    "### bb = 13\n",
    "\n",
    "Go to code in calc_irr_impact_regr.py and change bl to 6 on line 40."
   ]
  },
  {
   "cell_type": "code",
   "execution_count": 23,
   "metadata": {},
   "outputs": [],
   "source": [
    "# Re-load regression-based algorithm after this change\n",
    "execfile('calc_irr_impact_regr.py')"
   ]
  },
  {
   "cell_type": "code",
   "execution_count": 24,
   "metadata": {},
   "outputs": [
    {
     "name": "stderr",
     "output_type": "stream",
     "text": [
      "/usr/local/Miniconda3-envs/envs/2018/envs/iacpy2_2018/lib/python2.7/site-packages/ipykernel_launcher.py:84: RuntimeWarning: Mean of empty slice\n",
      "/usr/local/Miniconda3-envs/envs/2018/envs/iacpy2_2018/lib/python2.7/site-packages/ipykernel_launcher.py:85: RuntimeWarning: Mean of empty slice\n"
     ]
    },
    {
     "name": "stdout",
     "output_type": "stream",
     "text": [
      "Done importing changes in temperature and irrigated fraction\n",
      "Done importing changes in temperature and irrigated fraction\n",
      "Done importing changes in temperature and irrigated fraction\n",
      "Done importing changes in temperature and irrigated fraction\n",
      "Done importing changes in temperature and irrigated fraction\n",
      "Done importing changes in temperature and irrigated fraction\n",
      "Done importing changes in temperature and irrigated fraction\n",
      "Done importing changes in temperature and irrigated fraction\n",
      "Done importing changes in temperature and irrigated fraction\n",
      "Done importing changes in temperature and irrigated fraction\n",
      "Done importing changes in temperature and irrigated fraction\n",
      "Done importing changes in temperature and irrigated fraction\n"
     ]
    }
   ],
   "source": [
    "###################################\n",
    "#\n",
    "#Calculate dT_irr\n",
    "#Execute the algorithm to calculate\n",
    "#dT_irr globally and regionally.\n",
    "#\n",
    "#N.B. this procedure fills the \n",
    "#bottom two panels of the plot.\n",
    "#\n",
    "###################################\n",
    "\n",
    "#Define stacked array in which the results are stored\n",
    "CRU_t = np.zeros((9, 192, 288))\n",
    "CESM_t = np.zeros((9, 192, 288))\n",
    "\n",
    "#Execute the algorithm for different threshold values for CRU and CESM\n",
    "CRU_t[0,:,:], _,_,_,_ = calc_irr_impact_regr('CRU_CESM',temp_product_CRU,response,t_res,0.0,False,yr_start1,yr_end1,yr_start2,yr_end2)\n",
    "CRU_t[1,:,:], _,_,_,_ = calc_irr_impact_regr('CRU_CESM',temp_product_CRU,response,t_res,0.1,False,yr_start1,yr_end1,yr_start2,yr_end2)\n",
    "CRU_t[2,:,:], _,_,_,_ = calc_irr_impact_regr('CRU_CESM',temp_product_CRU,response,t_res,0.2,False,yr_start1,yr_end1,yr_start2,yr_end2)\n",
    "CRU_t[3,:,:], _,_,_,_ = calc_irr_impact_regr('CRU_CESM',temp_product_CRU,response,t_res,0.3,False,yr_start1,yr_end1,yr_start2,yr_end2)\n",
    "CRU_t[4,:,:], _,_,_,_ = calc_irr_impact_regr('CRU_CESM',temp_product_CRU,response,t_res,0.4,False,yr_start1,yr_end1,yr_start2,yr_end2)\n",
    "CRU_t[5,:,:], _,_,_,_ = calc_irr_impact_regr('CRU_CESM',temp_product_CRU,response,t_res,0.5,False,yr_start1,yr_end1,yr_start2,yr_end2)\n",
    "\n",
    "CESM_t[0,:,:], _,_,_,_ = calc_irr_impact_regr('CESM',temp_product_CESM,response,t_res,0.0,False,yr_start1,yr_end1,yr_start2,yr_end2)\n",
    "CESM_t[1,:,:], _,_,_,_ = calc_irr_impact_regr('CESM',temp_product_CESM,response,t_res,0.1,False,yr_start1,yr_end1,yr_start2,yr_end2)\n",
    "CESM_t[2,:,:], _,_,_,_ = calc_irr_impact_regr('CESM',temp_product_CESM,response,t_res,0.2,False,yr_start1,yr_end1,yr_start2,yr_end2)\n",
    "CESM_t[3,:,:], _,_,_,_ = calc_irr_impact_regr('CESM',temp_product_CESM,response,t_res,0.3,False,yr_start1,yr_end1,yr_start2,yr_end2)\n",
    "CESM_t[4,:,:], _,_,_,_ = calc_irr_impact_regr('CESM',temp_product_CESM,response,t_res,0.4,False,yr_start1,yr_end1,yr_start2,yr_end2)\n",
    "CESM_t[5,:,:], _,_,_,_ = calc_irr_impact_regr('CESM',temp_product_CESM,response,t_res,0.5,False,yr_start1,yr_end1,yr_start2,yr_end2)\n",
    "\n",
    "\n",
    "# WT:  save arrays as .mat files for making maps in matlab\n",
    "#sio.savemat('formatlab_CRU_t.mat' , {'CRU_t':CRU_t})\n",
    "#sio.savemat('formatlab_CESM_t.mat', {'CESM_t':CESM_t})\n",
    "# WT\n",
    "\n",
    "\n",
    "#Change to 1D, remove NaNs\n",
    "CRU0 = CRU_t[0,:,:].ravel()[~np.isnan(CRU_t[0,:,:].ravel())]\n",
    "CRU1 = CRU_t[1,:,:].ravel()[~np.isnan(CRU_t[1,:,:].ravel())]\n",
    "CRU2 = CRU_t[2,:,:].ravel()[~np.isnan(CRU_t[2,:,:].ravel())]\n",
    "CRU3 = CRU_t[3,:,:].ravel()[~np.isnan(CRU_t[3,:,:].ravel())]\n",
    "CRU4 = CRU_t[4,:,:].ravel()[~np.isnan(CRU_t[4,:,:].ravel())]\n",
    "CRU5 = CRU_t[5,:,:].ravel()[~np.isnan(CRU_t[5,:,:].ravel())]\n",
    "\n",
    "CESM0 = CESM_t[0,:,:].ravel()[~np.isnan(CESM_t[0,:,:].ravel())]\n",
    "CESM1 = CESM_t[1,:,:].ravel()[~np.isnan(CESM_t[1,:,:].ravel())]\n",
    "CESM2 = CESM_t[2,:,:].ravel()[~np.isnan(CESM_t[2,:,:].ravel())]\n",
    "CESM3 = CESM_t[3,:,:].ravel()[~np.isnan(CESM_t[3,:,:].ravel())]\n",
    "CESM4 = CESM_t[4,:,:].ravel()[~np.isnan(CESM_t[4,:,:].ravel())]\n",
    "CESM5 = CESM_t[5,:,:].ravel()[~np.isnan(CESM_t[5,:,:].ravel())]"
   ]
  },
  {
   "cell_type": "code",
   "execution_count": 25,
   "metadata": {},
   "outputs": [],
   "source": [
    "# WT replaced sel by pinb_mask in next lines\n",
    "#Extract the PINB signal for each threshold for CRU and CESM, removing NaN values \n",
    "CRU0_reg_pinb_bb13 = CRU_t[0,:,:][pinb_mask][~np.isnan(CRU_t[0,:,:][pinb_mask])]\n",
    "CRU1_reg_pinb_bb13 = CRU_t[1,:,:][pinb_mask][~np.isnan(CRU_t[1,:,:][pinb_mask])]\n",
    "CRU2_reg_pinb_bb13 = CRU_t[2,:,:][pinb_mask][~np.isnan(CRU_t[2,:,:][pinb_mask])]\n",
    "CRU3_reg_pinb_bb13 = CRU_t[3,:,:][pinb_mask][~np.isnan(CRU_t[3,:,:][pinb_mask])]\n",
    "CRU4_reg_pinb_bb13 = CRU_t[4,:,:][pinb_mask][~np.isnan(CRU_t[4,:,:][pinb_mask])]\n",
    "CRU5_reg_pinb_bb13 = CRU_t[5,:,:][pinb_mask][~np.isnan(CRU_t[5,:,:][pinb_mask])]\n",
    "\n",
    "# WT replaced mistake (CRU_t to CESM_t)\n",
    "CESM0_reg_pinb_bb13 = CESM_t[0,:,:][pinb_mask][~np.isnan(CESM_t[0,:,:][pinb_mask])]\n",
    "CESM1_reg_pinb_bb13 = CESM_t[1,:,:][pinb_mask][~np.isnan(CESM_t[1,:,:][pinb_mask])]\n",
    "CESM2_reg_pinb_bb13 = CESM_t[2,:,:][pinb_mask][~np.isnan(CESM_t[2,:,:][pinb_mask])]\n",
    "CESM3_reg_pinb_bb13 = CESM_t[3,:,:][pinb_mask][~np.isnan(CESM_t[3,:,:][pinb_mask])]\n",
    "CESM4_reg_pinb_bb13 = CESM_t[4,:,:][pinb_mask][~np.isnan(CESM_t[4,:,:][pinb_mask])]\n",
    "CESM5_reg_pinb_bb13 = CESM_t[5,:,:][pinb_mask][~np.isnan(CESM_t[5,:,:][pinb_mask])]"
   ]
  },
  {
   "cell_type": "code",
   "execution_count": 26,
   "metadata": {},
   "outputs": [],
   "source": [
    "CRU_bb13 = np.zeros((6))\n",
    "CESM_bb13 = np.zeros((6))\n",
    "    \n",
    "CRU_bb13[0] = np.nanmedian(CRU0_reg_pinb_bb13)\n",
    "CRU_bb13[1] = np.nanmedian(CRU1_reg_pinb_bb13)\n",
    "CRU_bb13[2] = np.nanmedian(CRU2_reg_pinb_bb13)\n",
    "CRU_bb13[3] = np.nanmedian(CRU3_reg_pinb_bb13)\n",
    "CRU_bb13[4] = np.nanmedian(CRU4_reg_pinb_bb13)\n",
    "CRU_bb13[5] = np.nanmedian(CRU5_reg_pinb_bb13)\n",
    "\n",
    "CESM_bb13[0] = np.nanmedian(CESM0_reg_pinb_bb13)\n",
    "CESM_bb13[1] = np.nanmedian(CESM1_reg_pinb_bb13)\n",
    "CESM_bb13[2] = np.nanmedian(CESM2_reg_pinb_bb13)\n",
    "CESM_bb13[3] = np.nanmedian(CESM3_reg_pinb_bb13)\n",
    "CESM_bb13[4] = np.nanmedian(CESM4_reg_pinb_bb13)\n",
    "CESM_bb13[5] = np.nanmedian(CESM5_reg_pinb_bb13)"
   ]
  },
  {
   "cell_type": "markdown",
   "metadata": {},
   "source": [
    "### bb = 15\n",
    "\n",
    "Go to code in calc_irr_impact_regr.py and change bl to 7 on line 40."
   ]
  },
  {
   "cell_type": "code",
   "execution_count": 27,
   "metadata": {},
   "outputs": [],
   "source": [
    "# Re-load regression-based algorithm after this change\n",
    "execfile('calc_irr_impact_regr.py')"
   ]
  },
  {
   "cell_type": "code",
   "execution_count": 28,
   "metadata": {},
   "outputs": [
    {
     "name": "stderr",
     "output_type": "stream",
     "text": [
      "/usr/local/Miniconda3-envs/envs/2018/envs/iacpy2_2018/lib/python2.7/site-packages/ipykernel_launcher.py:84: RuntimeWarning: Mean of empty slice\n",
      "/usr/local/Miniconda3-envs/envs/2018/envs/iacpy2_2018/lib/python2.7/site-packages/ipykernel_launcher.py:85: RuntimeWarning: Mean of empty slice\n"
     ]
    },
    {
     "name": "stdout",
     "output_type": "stream",
     "text": [
      "Done importing changes in temperature and irrigated fraction\n",
      "Done importing changes in temperature and irrigated fraction\n",
      "Done importing changes in temperature and irrigated fraction\n",
      "Done importing changes in temperature and irrigated fraction\n",
      "Done importing changes in temperature and irrigated fraction\n",
      "Done importing changes in temperature and irrigated fraction\n",
      "Done importing changes in temperature and irrigated fraction\n",
      "Done importing changes in temperature and irrigated fraction\n",
      "Done importing changes in temperature and irrigated fraction\n",
      "Done importing changes in temperature and irrigated fraction\n",
      "Done importing changes in temperature and irrigated fraction\n",
      "Done importing changes in temperature and irrigated fraction\n"
     ]
    }
   ],
   "source": [
    "###################################\n",
    "#\n",
    "#Calculate dT_irr\n",
    "#Execute the algorithm to calculate\n",
    "#dT_irr globally and regionally.\n",
    "#\n",
    "#N.B. this procedure fills the \n",
    "#bottom two panels of the plot.\n",
    "#\n",
    "###################################\n",
    "\n",
    "#Define stacked array in which the results are stored\n",
    "CRU_t = np.zeros((9, 192, 288))\n",
    "CESM_t = np.zeros((9, 192, 288))\n",
    "\n",
    "#Execute the algorithm for different threshold values for CRU and CESM\n",
    "CRU_t[0,:,:], _,_,_,_ = calc_irr_impact_regr('CRU_CESM',temp_product_CRU,response,t_res,0.0,False,yr_start1,yr_end1,yr_start2,yr_end2)\n",
    "CRU_t[1,:,:], _,_,_,_ = calc_irr_impact_regr('CRU_CESM',temp_product_CRU,response,t_res,0.1,False,yr_start1,yr_end1,yr_start2,yr_end2)\n",
    "CRU_t[2,:,:], _,_,_,_ = calc_irr_impact_regr('CRU_CESM',temp_product_CRU,response,t_res,0.2,False,yr_start1,yr_end1,yr_start2,yr_end2)\n",
    "CRU_t[3,:,:], _,_,_,_ = calc_irr_impact_regr('CRU_CESM',temp_product_CRU,response,t_res,0.3,False,yr_start1,yr_end1,yr_start2,yr_end2)\n",
    "CRU_t[4,:,:], _,_,_,_ = calc_irr_impact_regr('CRU_CESM',temp_product_CRU,response,t_res,0.4,False,yr_start1,yr_end1,yr_start2,yr_end2)\n",
    "CRU_t[5,:,:], _,_,_,_ = calc_irr_impact_regr('CRU_CESM',temp_product_CRU,response,t_res,0.5,False,yr_start1,yr_end1,yr_start2,yr_end2)\n",
    "\n",
    "CESM_t[0,:,:], _,_,_,_ = calc_irr_impact_regr('CESM',temp_product_CESM,response,t_res,0.0,False,yr_start1,yr_end1,yr_start2,yr_end2)\n",
    "CESM_t[1,:,:], _,_,_,_ = calc_irr_impact_regr('CESM',temp_product_CESM,response,t_res,0.1,False,yr_start1,yr_end1,yr_start2,yr_end2)\n",
    "CESM_t[2,:,:], _,_,_,_ = calc_irr_impact_regr('CESM',temp_product_CESM,response,t_res,0.2,False,yr_start1,yr_end1,yr_start2,yr_end2)\n",
    "CESM_t[3,:,:], _,_,_,_ = calc_irr_impact_regr('CESM',temp_product_CESM,response,t_res,0.3,False,yr_start1,yr_end1,yr_start2,yr_end2)\n",
    "CESM_t[4,:,:], _,_,_,_ = calc_irr_impact_regr('CESM',temp_product_CESM,response,t_res,0.4,False,yr_start1,yr_end1,yr_start2,yr_end2)\n",
    "CESM_t[5,:,:], _,_,_,_ = calc_irr_impact_regr('CESM',temp_product_CESM,response,t_res,0.5,False,yr_start1,yr_end1,yr_start2,yr_end2)\n",
    "\n",
    "\n",
    "# WT:  save arrays as .mat files for making maps in matlab\n",
    "#sio.savemat('formatlab_CRU_t.mat' , {'CRU_t':CRU_t})\n",
    "#sio.savemat('formatlab_CESM_t.mat', {'CESM_t':CESM_t})\n",
    "# WT\n",
    "\n",
    "\n",
    "#Change to 1D, remove NaNs\n",
    "CRU0 = CRU_t[0,:,:].ravel()[~np.isnan(CRU_t[0,:,:].ravel())]\n",
    "CRU1 = CRU_t[1,:,:].ravel()[~np.isnan(CRU_t[1,:,:].ravel())]\n",
    "CRU2 = CRU_t[2,:,:].ravel()[~np.isnan(CRU_t[2,:,:].ravel())]\n",
    "CRU3 = CRU_t[3,:,:].ravel()[~np.isnan(CRU_t[3,:,:].ravel())]\n",
    "CRU4 = CRU_t[4,:,:].ravel()[~np.isnan(CRU_t[4,:,:].ravel())]\n",
    "CRU5 = CRU_t[5,:,:].ravel()[~np.isnan(CRU_t[5,:,:].ravel())]\n",
    "\n",
    "CESM0 = CESM_t[0,:,:].ravel()[~np.isnan(CESM_t[0,:,:].ravel())]\n",
    "CESM1 = CESM_t[1,:,:].ravel()[~np.isnan(CESM_t[1,:,:].ravel())]\n",
    "CESM2 = CESM_t[2,:,:].ravel()[~np.isnan(CESM_t[2,:,:].ravel())]\n",
    "CESM3 = CESM_t[3,:,:].ravel()[~np.isnan(CESM_t[3,:,:].ravel())]\n",
    "CESM4 = CESM_t[4,:,:].ravel()[~np.isnan(CESM_t[4,:,:].ravel())]\n",
    "CESM5 = CESM_t[5,:,:].ravel()[~np.isnan(CESM_t[5,:,:].ravel())]"
   ]
  },
  {
   "cell_type": "code",
   "execution_count": 29,
   "metadata": {},
   "outputs": [],
   "source": [
    "# WT replaced sel by pinb_mask in next lines\n",
    "#Extract the PINB signal for each threshold for CRU and CESM, removing NaN values \n",
    "CRU0_reg_pinb_bb15 = CRU_t[0,:,:][pinb_mask][~np.isnan(CRU_t[0,:,:][pinb_mask])]\n",
    "CRU1_reg_pinb_bb15 = CRU_t[1,:,:][pinb_mask][~np.isnan(CRU_t[1,:,:][pinb_mask])]\n",
    "CRU2_reg_pinb_bb15 = CRU_t[2,:,:][pinb_mask][~np.isnan(CRU_t[2,:,:][pinb_mask])]\n",
    "CRU3_reg_pinb_bb15 = CRU_t[3,:,:][pinb_mask][~np.isnan(CRU_t[3,:,:][pinb_mask])]\n",
    "CRU4_reg_pinb_bb15 = CRU_t[4,:,:][pinb_mask][~np.isnan(CRU_t[4,:,:][pinb_mask])]\n",
    "CRU5_reg_pinb_bb15 = CRU_t[5,:,:][pinb_mask][~np.isnan(CRU_t[5,:,:][pinb_mask])]\n",
    "\n",
    "# WT replaced mistake (CRU_t to CESM_t)\n",
    "CESM0_reg_pinb_bb15 = CESM_t[0,:,:][pinb_mask][~np.isnan(CESM_t[0,:,:][pinb_mask])]\n",
    "CESM1_reg_pinb_bb15 = CESM_t[1,:,:][pinb_mask][~np.isnan(CESM_t[1,:,:][pinb_mask])]\n",
    "CESM2_reg_pinb_bb15 = CESM_t[2,:,:][pinb_mask][~np.isnan(CESM_t[2,:,:][pinb_mask])]\n",
    "CESM3_reg_pinb_bb15 = CESM_t[3,:,:][pinb_mask][~np.isnan(CESM_t[3,:,:][pinb_mask])]\n",
    "CESM4_reg_pinb_bb15 = CESM_t[4,:,:][pinb_mask][~np.isnan(CESM_t[4,:,:][pinb_mask])]\n",
    "CESM5_reg_pinb_bb15 = CESM_t[5,:,:][pinb_mask][~np.isnan(CESM_t[5,:,:][pinb_mask])]"
   ]
  },
  {
   "cell_type": "code",
   "execution_count": 30,
   "metadata": {},
   "outputs": [],
   "source": [
    "CRU_bb15 = np.zeros((6))\n",
    "CESM_bb15 = np.zeros((6))\n",
    "    \n",
    "CRU_bb15[0] = np.nanmedian(CRU0_reg_pinb_bb15)\n",
    "CRU_bb15[1] = np.nanmedian(CRU1_reg_pinb_bb15)\n",
    "CRU_bb15[2] = np.nanmedian(CRU2_reg_pinb_bb15)\n",
    "CRU_bb15[3] = np.nanmedian(CRU3_reg_pinb_bb15)\n",
    "CRU_bb15[4] = np.nanmedian(CRU4_reg_pinb_bb15)\n",
    "CRU_bb15[5] = np.nanmedian(CRU5_reg_pinb_bb15)\n",
    "\n",
    "CESM_bb15[0] = np.nanmedian(CESM0_reg_pinb_bb15)\n",
    "CESM_bb15[1] = np.nanmedian(CESM1_reg_pinb_bb15)\n",
    "CESM_bb15[2] = np.nanmedian(CESM2_reg_pinb_bb15)\n",
    "CESM_bb15[3] = np.nanmedian(CESM3_reg_pinb_bb15)\n",
    "CESM_bb15[4] = np.nanmedian(CESM4_reg_pinb_bb15)\n",
    "CESM_bb15[5] = np.nanmedian(CESM5_reg_pinb_bb15)"
   ]
  },
  {
   "cell_type": "markdown",
   "metadata": {},
   "source": [
    "# Plot results"
   ]
  },
  {
   "cell_type": "code",
   "execution_count": 53,
   "metadata": {},
   "outputs": [
    {
     "name": "stdout",
     "output_type": "stream",
     "text": [
      "-0.9185830868042288 -0.007202815444471358\n",
      "-1.489693854952384 -0.13939366224860902\n"
     ]
    }
   ],
   "source": [
    "arr_CRU = np.array((CRU_bb5,CRU_bb7,CRU_bb9,CRU_bb11,CRU_bb13,CRU_bb15))\n",
    "arr_CESM = np.array((CESM_bb5,CESM_bb7,CESM_bb9,CESM_bb11,CESM_bb13,CESM_bb15))\n",
    "\n",
    "print np.nanmin(arr_CRU), np.nanmax(arr_CRU)\n",
    "print np.nanmin(arr_CESM), np.nanmax(arr_CESM)"
   ]
  },
  {
   "cell_type": "code",
   "execution_count": 62,
   "metadata": {},
   "outputs": [
    {
     "data": {
      "image/png": "[encoded data removed]",
      "text/plain": [
       "<Figure size 792x288 with 3 Axes>"
      ]
     },
     "metadata": {},
     "output_type": "display_data"
    }
   ],
   "source": [
    "import numpy as np\n",
    "import matplotlib.pyplot as plt\n",
    "\n",
    "fig,ax = plt.subplots(1,2,figsize=(11,4))\n",
    "#fig.set_size_inches(16 / 2.54, 16 / 2.54 / 2.2)\n",
    "\n",
    "#CESM results\n",
    "im_CESM = ax[0].imshow(arr_CESM,vmin=-1.5,vmax=0,cmap='Blues_r');\n",
    "CS = ax[0].contour(arr_CESM, np.arange(-1.25,0,0.25), colors= 'k')\n",
    "ax[0].clabel(CS, inline=1, fontsize=10, fmt='%1.2f')\n",
    "\n",
    "ax[0].invert_yaxis()\n",
    "ax[0].set_yticklabels(['',r'5$\\times$5',r'7$\\times$7',r'9$\\times$9',r'11$\\times$11',r'13$\\times$13',r'15$\\times$15'])\n",
    "ax[0].set_xticklabels(['','0.0','0.1','0.2','0.3','0.4','0.5'])\n",
    "\n",
    "ax[0].set_ylabel('Search window size [-]')\n",
    "ax[0].set_xlabel(r'Change in irrigated fraction [-]')\n",
    "#c.set_label('T change [K]')\n",
    "\n",
    "ax[0].set_title('CESM',weight='bold')\n",
    "\n",
    "\n",
    "\n",
    "#CRU results\n",
    "im_CRU = ax[1].imshow(arr_CRU,vmin=-1.5,vmax=0,cmap='Blues_r');\n",
    "CS = ax[1].contour(arr_CRU, np.arange(-1.25,0,0.25), colors= 'k')\n",
    "ax[1].clabel(CS, inline=1, fontsize=10, fmt='%1.2f')\n",
    "\n",
    "ax[1].set_yticklabels(['',r'5$\\times$5',r'7$\\times$7',r'9$\\times$9',r'11$\\times$11',r'13$\\times$13',r'15$\\times$15'])\n",
    "ax[1].invert_yaxis()\n",
    "ax[1].set_xticklabels(['','0.0','0.1','0.2','0.3','0.4','0.5'])\n",
    "\n",
    "ax[1].set_xlabel(r'Change in irrigated fraction [-]')\n",
    "#c.set_label('T change [K]')\n",
    "\n",
    "ax[1].set_title('CRU',weight='bold')\n",
    "\n",
    "\n",
    "c = fig.colorbar(im_CRU, ax=ax.ravel().tolist())\n",
    "c.set_ticks(np.arange(-1.5,0.1,0.3))\n",
    "c.set_label(u'Irrigation-induced temperature change [K]')\n",
    "\n",
    "fig.savefig('CESM_CRUv3.22_heatmap_df-irr_swsize_AV.pdf',bbox_inches='tight')\n",
    "fig.show()"
   ]
  },
  {
   "cell_type": "markdown",
   "metadata": {},
   "source": [
    "**Stronger dependence of CRU on search window size compared to CESM**, displayed as a heat map of $\\Delta TXm_{irr}$ as a function of change in irrigated fraction and the serach window size. Dashed lines represent the contour lines of equal $\\Delta TXm_{irr}$."
   ]
  }
 ],
 "metadata": {
  "kernelspec": {
   "display_name": "Python 2",
   "language": "python",
   "name": "python2"
  },
  "language_info": {
   "codemirror_mode": {
    "name": "ipython",
    "version": 2
   },
   "file_extension": ".py",
   "mimetype": "text/x-python",
   "name": "python",
   "nbconvert_exporter": "python",
   "pygments_lexer": "ipython2",
   "version": "2.7.14"
  }
 },
 "nbformat": 4,
 "nbformat_minor": 2
}
